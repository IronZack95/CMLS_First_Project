{
 "cells": [
  {
   "cell_type": "code",
   "execution_count": 3,
   "id": "bearing-textbook",
   "metadata": {},
   "outputs": [],
   "source": [
    "import numpy as np\n",
    "import librosa\n",
    "import os\n",
    "import matplotlib.pyplot as plt\n",
    "import sklearn.svm\n",
    "import IPython.display as ipd\n",
    "import scipy as sp"
   ]
  },
  {
   "cell_type": "markdown",
   "id": "bibliographic-powell",
   "metadata": {},
   "source": [
    "# Feature computation"
   ]
  },
  {
   "cell_type": "code",
   "execution_count": 4,
   "id": "electric-fever",
   "metadata": {},
   "outputs": [],
   "source": [
    "def compute_mfcc(audio, fs, n_mfcc):\n",
    "    # Compute the spectrogram of the audio signal\n",
    "    # Short time Fourier Transform + Windowing\n",
    "    X = np.abs(librosa.stft( \n",
    "        audio,\n",
    "        window='hamming',\n",
    "        n_fft=1024,\n",
    "        hop_length=512,)\n",
    "        )\n",
    "    \n",
    "    # Find the weights of the mel filters\n",
    "    mel = librosa.filters.mel(\n",
    "        sr=fs,\n",
    "        n_fft=1024,\n",
    "        n_mels=40,\n",
    "        fmin=133.33,\n",
    "        fmax=6853.8,\n",
    "    )\n",
    "    \n",
    "    # Apply the filters to spectrogram with dot product\n",
    "    melspectrogram = np.dot(mel, X)\n",
    "    # Take the logarithm\n",
    "    log_melspectrogram = np.log10(melspectrogram + 1e-16)\n",
    "    \n",
    "    # Apply the DCT to log melspectrogram to obtain the coefficients\n",
    "    mfcc = sp.fftpack.dct(log_melspectrogram, axis=0, norm='ortho')[1:n_mfcc+1]\n",
    "    return mfcc"
   ]
  },
  {
   "cell_type": "markdown",
   "id": "collective-wrapping",
   "metadata": {},
   "source": [
    "### Compute training features"
   ]
  },
  {
   "cell_type": "code",
   "execution_count": null,
   "id": "protecting-weight",
   "metadata": {},
   "outputs": [],
   "source": [
    "classes = ['blues', 'hiphop', 'metal', 'reggae']\n",
    "n_mfcc = 13\n",
    "dict_train_features = {'blues': [], 'hiphop': [], 'metal': [], 'reggae': []}\n",
    "\n",
    "for c in classes:\n",
    "    train_root = 'Input/{}/training/'.format(c)\n",
    "    class_train_files = [f for f in os.listdir(train_root) if f.endswith('.wav')]\n",
    "    n_train_samples = len(class_train_files)\n",
    "    \n",
    "    train_features = np.zeros((n_train_samples, n_mfcc))\n",
    "    for index, f in enumerate(class_train_files):\n",
    "        audio, fs = librosa.load(os.path.join(train_root, f), sr=None)\n",
    "        mfcc = compute_mfcc(audio, fs, n_mfcc)\n",
    "        train_features[index, :] = np.mean(mfcc, axis=1)\n",
    "        \n",
    "    dict_train_features[c] = train_features"
   ]
  },
  {
   "cell_type": "code",
   "execution_count": 6,
   "id": "specific-membrane",
   "metadata": {},
   "outputs": [
    {
     "ename": "NameError",
     "evalue": "name 'audio' is not defined",
     "output_type": "error",
     "traceback": [
      "\u001b[1;31m---------------------------------------------------------------------------\u001b[0m",
      "\u001b[1;31mNameError\u001b[0m                                 Traceback (most recent call last)",
      "\u001b[1;32m<ipython-input-6-0186a9fdfaab>\u001b[0m in \u001b[0;36m<module>\u001b[1;34m\u001b[0m\n\u001b[1;32m----> 1\u001b[1;33m \u001b[0mipd\u001b[0m\u001b[1;33m.\u001b[0m\u001b[0mAudio\u001b[0m\u001b[1;33m(\u001b[0m\u001b[0maudio\u001b[0m\u001b[1;33m,\u001b[0m \u001b[0mrate\u001b[0m\u001b[1;33m=\u001b[0m\u001b[0mfs\u001b[0m\u001b[1;33m)\u001b[0m \u001b[1;31m# load last WAV file\u001b[0m\u001b[1;33m\u001b[0m\u001b[1;33m\u001b[0m\u001b[0m\n\u001b[0m",
      "\u001b[1;31mNameError\u001b[0m: name 'audio' is not defined"
     ]
    }
   ],
   "source": [
    "ipd.Audio(audio, rate=fs) # load last WAV file"
   ]
  },
  {
   "cell_type": "markdown",
   "id": "cathedral-sample",
   "metadata": {},
   "source": [
    "## VISUALIZATION"
   ]
  },
  {
   "cell_type": "code",
   "execution_count": null,
   "id": "wound-divide",
   "metadata": {},
   "outputs": [],
   "source": [
    "for c in classes:\n",
    "    mfcc = dict_train_features[c].transpose()\n",
    "    # Visualization\n",
    "    fig = plt.figure(figsize=(16, 6))\n",
    "    plt.subplot(1,2,1)\n",
    "    plt.imshow(mfcc, origin='lower', aspect='auto')\n",
    "    plt.xlabel('Training samples')\n",
    "    plt.ylabel('MFCC coefficients')\n",
    "    plt.title('MFCC (coefficients 0 to 13) for class {}'.format(c))\n",
    "    plt.colorbar()\n",
    "    plt.tight_layout()\n",
    "\n",
    "    mfcc_upper = mfcc[4:]\n",
    "    plt.subplot(1,2,2)\n",
    "    plt.imshow(mfcc_upper, origin='lower', aspect='auto')\n",
    "    plt.title('MFCC (coefficients 4 to 13) for class {}'.format(c))\n",
    "    plt.xlabel('Training samples')\n",
    "    plt.ylabel('MFCC coefficients')\n",
    "    plt.colorbar()\n",
    "    plt.tight_layout()"
   ]
  }
 ],
 "metadata": {
  "kernelspec": {
   "display_name": "Python 3",
   "language": "python",
   "name": "python3"
  },
  "language_info": {
   "codemirror_mode": {
    "name": "ipython",
    "version": 3
   },
   "file_extension": ".py",
   "mimetype": "text/x-python",
   "name": "python",
   "nbconvert_exporter": "python",
   "pygments_lexer": "ipython3",
   "version": "3.9.2"
  }
 },
 "nbformat": 4,
 "nbformat_minor": 5
}
